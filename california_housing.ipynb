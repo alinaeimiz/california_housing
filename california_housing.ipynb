{
 "cells": [
  {
   "cell_type": "markdown",
   "id": "08abbaef-e6c9-4edf-a855-dd74133b4d07",
   "metadata": {},
   "source": [
    "## california housing "
   ]
  },
  {
   "cell_type": "code",
   "execution_count": 2,
   "id": "0c23177c-159e-48ea-82c4-f19d2a7cb76d",
   "metadata": {},
   "outputs": [],
   "source": [
    "import numpy as np\n",
    "import pandas as pd\n",
    "import tensorflow as tf\n",
    "from tensorflow import keras"
   ]
  },
  {
   "cell_type": "markdown",
   "id": "a4cad380-e2f8-4f1b-83f0-91f9ff8801cb",
   "metadata": {},
   "source": [
    "### import data set  form sklearn"
   ]
  },
  {
   "cell_type": "code",
   "execution_count": 3,
   "id": "9339a0fa-22b8-407d-beb3-316773285e3b",
   "metadata": {},
   "outputs": [],
   "source": [
    "from sklearn.datasets import fetch_california_housing"
   ]
  },
  {
   "cell_type": "code",
   "execution_count": 4,
   "id": "bc85cdfd-338f-444c-8cc0-1ac983c025b9",
   "metadata": {},
   "outputs": [],
   "source": [
    "california_housing = fetch_california_housing()"
   ]
  },
  {
   "cell_type": "markdown",
   "id": "521adca1-3362-41ad-8430-a9d52ac89c62",
   "metadata": {},
   "source": [
    "### split data for train and test"
   ]
  },
  {
   "cell_type": "code",
   "execution_count": 5,
   "id": "e6f3685d-f919-4c26-b3b6-eddb2bcc4782",
   "metadata": {},
   "outputs": [],
   "source": [
    "from sklearn.model_selection import train_test_split \n",
    "X_train0, X_test, y_train0, y_test = train_test_split(california_housing['data'], california_housing['target'])"
   ]
  },
  {
   "cell_type": "code",
   "execution_count": 6,
   "id": "9586b4c5-15e5-4d09-a5d0-9124caffc749",
   "metadata": {},
   "outputs": [],
   "source": [
    "# split data train for validation module and train module\n",
    "X_train1, X_validation , y_train1, y_validation = train_test_split(X_train0, y_train0)"
   ]
  },
  {
   "cell_type": "markdown",
   "id": "ce4227dd-9831-4580-bfc9-fbae84f2c0ca",
   "metadata": {},
   "source": [
    "### normalizing data"
   ]
  },
  {
   "cell_type": "code",
   "execution_count": 7,
   "id": "cf02658c-521a-4f88-b660-ae5c8114f5ee",
   "metadata": {},
   "outputs": [],
   "source": [
    "from sklearn.preprocessing import StandardScaler\n",
    "sc = StandardScaler()\n",
    "X_train_s =sc.fit_transform(X_train1)\n",
    "X_validation_s = sc.fit_transform(X_validation)\n",
    "X_test_s = sc.fit_transform(X_test)"
   ]
  },
  {
   "cell_type": "markdown",
   "id": "6d94c98e-6422-4566-846e-edee8fbc85e3",
   "metadata": {},
   "source": [
    "## neural network model"
   ]
  },
  {
   "cell_type": "code",
   "execution_count": 8,
   "id": "b03f1f0b-0db2-4ba2-b4b6-50fa7f4cc990",
   "metadata": {},
   "outputs": [],
   "source": [
    "model = keras.models.Sequential([\n",
    "    keras.layers.Dense(100, activation='relu'),\n",
    "    keras.layers.Dense(50, activation='relu'),\n",
    "    keras.layers.Dense(1)\n",
    "])"
   ]
  },
  {
   "cell_type": "code",
   "execution_count": 9,
   "id": "fc171be3-e541-4470-a741-6cd0d4cb2667",
   "metadata": {},
   "outputs": [],
   "source": [
    "model.compile(\n",
    "    loss='mean_squared_error',\n",
    "    optimizer='sgd',\n",
    "    metrics=['mean_absolute_error']\n",
    ")"
   ]
  },
  {
   "cell_type": "code",
   "execution_count": 10,
   "id": "b5236709-6a00-448c-898c-0bdae06a8081",
   "metadata": {},
   "outputs": [
    {
     "name": "stdout",
     "output_type": "stream",
     "text": [
      "Epoch 1/50\n",
      "\u001b[1m363/363\u001b[0m \u001b[32m━━━━━━━━━━━━━━━━━━━━\u001b[0m\u001b[37m\u001b[0m \u001b[1m0s\u001b[0m 474us/step - loss: 1.1411 - mean_absolute_error: 0.7394 - val_loss: 0.5338 - val_mean_absolute_error: 0.5115\n",
      "Epoch 2/50\n",
      "\u001b[1m363/363\u001b[0m \u001b[32m━━━━━━━━━━━━━━━━━━━━\u001b[0m\u001b[37m\u001b[0m \u001b[1m0s\u001b[0m 342us/step - loss: 0.4331 - mean_absolute_error: 0.4698 - val_loss: 0.5572 - val_mean_absolute_error: 0.4857\n",
      "Epoch 3/50\n",
      "\u001b[1m363/363\u001b[0m \u001b[32m━━━━━━━━━━━━━━━━━━━━\u001b[0m\u001b[37m\u001b[0m \u001b[1m0s\u001b[0m 340us/step - loss: 0.3933 - mean_absolute_error: 0.4396 - val_loss: 0.4653 - val_mean_absolute_error: 0.4736\n",
      "Epoch 4/50\n",
      "\u001b[1m363/363\u001b[0m \u001b[32m━━━━━━━━━━━━━━━━━━━━\u001b[0m\u001b[37m\u001b[0m \u001b[1m0s\u001b[0m 344us/step - loss: 0.3609 - mean_absolute_error: 0.4276 - val_loss: 0.4571 - val_mean_absolute_error: 0.4672\n",
      "Epoch 5/50\n",
      "\u001b[1m363/363\u001b[0m \u001b[32m━━━━━━━━━━━━━━━━━━━━\u001b[0m\u001b[37m\u001b[0m \u001b[1m0s\u001b[0m 343us/step - loss: 0.3449 - mean_absolute_error: 0.4115 - val_loss: 0.4621 - val_mean_absolute_error: 0.4622\n",
      "Epoch 6/50\n",
      "\u001b[1m363/363\u001b[0m \u001b[32m━━━━━━━━━━━━━━━━━━━━\u001b[0m\u001b[37m\u001b[0m \u001b[1m0s\u001b[0m 342us/step - loss: 0.3521 - mean_absolute_error: 0.4162 - val_loss: 0.4629 - val_mean_absolute_error: 0.4586\n",
      "Epoch 7/50\n",
      "\u001b[1m363/363\u001b[0m \u001b[32m━━━━━━━━━━━━━━━━━━━━\u001b[0m\u001b[37m\u001b[0m \u001b[1m0s\u001b[0m 341us/step - loss: 0.3258 - mean_absolute_error: 0.3998 - val_loss: 0.4921 - val_mean_absolute_error: 0.4631\n",
      "Epoch 8/50\n",
      "\u001b[1m363/363\u001b[0m \u001b[32m━━━━━━━━━━━━━━━━━━━━\u001b[0m\u001b[37m\u001b[0m \u001b[1m0s\u001b[0m 344us/step - loss: 0.3364 - mean_absolute_error: 0.4001 - val_loss: 0.4863 - val_mean_absolute_error: 0.4618\n",
      "Epoch 9/50\n",
      "\u001b[1m363/363\u001b[0m \u001b[32m━━━━━━━━━━━━━━━━━━━━\u001b[0m\u001b[37m\u001b[0m \u001b[1m0s\u001b[0m 342us/step - loss: 0.3149 - mean_absolute_error: 0.3943 - val_loss: 0.4505 - val_mean_absolute_error: 0.4569\n",
      "Epoch 10/50\n",
      "\u001b[1m363/363\u001b[0m \u001b[32m━━━━━━━━━━━━━━━━━━━━\u001b[0m\u001b[37m\u001b[0m \u001b[1m0s\u001b[0m 339us/step - loss: 0.3277 - mean_absolute_error: 0.3967 - val_loss: 0.4627 - val_mean_absolute_error: 0.4532\n",
      "Epoch 11/50\n",
      "\u001b[1m363/363\u001b[0m \u001b[32m━━━━━━━━━━━━━━━━━━━━\u001b[0m\u001b[37m\u001b[0m \u001b[1m0s\u001b[0m 344us/step - loss: 0.3217 - mean_absolute_error: 0.3949 - val_loss: 0.4426 - val_mean_absolute_error: 0.4505\n",
      "Epoch 12/50\n",
      "\u001b[1m363/363\u001b[0m \u001b[32m━━━━━━━━━━━━━━━━━━━━\u001b[0m\u001b[37m\u001b[0m \u001b[1m0s\u001b[0m 340us/step - loss: 0.3580 - mean_absolute_error: 0.4113 - val_loss: 0.4708 - val_mean_absolute_error: 0.4541\n",
      "Epoch 13/50\n",
      "\u001b[1m363/363\u001b[0m \u001b[32m━━━━━━━━━━━━━━━━━━━━\u001b[0m\u001b[37m\u001b[0m \u001b[1m0s\u001b[0m 339us/step - loss: 0.3115 - mean_absolute_error: 0.3882 - val_loss: 0.4569 - val_mean_absolute_error: 0.4530\n",
      "Epoch 14/50\n",
      "\u001b[1m363/363\u001b[0m \u001b[32m━━━━━━━━━━━━━━━━━━━━\u001b[0m\u001b[37m\u001b[0m \u001b[1m0s\u001b[0m 345us/step - loss: 0.3182 - mean_absolute_error: 0.3906 - val_loss: 0.4378 - val_mean_absolute_error: 0.4600\n",
      "Epoch 15/50\n",
      "\u001b[1m363/363\u001b[0m \u001b[32m━━━━━━━━━━━━━━━━━━━━\u001b[0m\u001b[37m\u001b[0m \u001b[1m0s\u001b[0m 343us/step - loss: 0.3062 - mean_absolute_error: 0.3867 - val_loss: 0.4391 - val_mean_absolute_error: 0.4644\n",
      "Epoch 16/50\n",
      "\u001b[1m363/363\u001b[0m \u001b[32m━━━━━━━━━━━━━━━━━━━━\u001b[0m\u001b[37m\u001b[0m \u001b[1m0s\u001b[0m 346us/step - loss: 0.3092 - mean_absolute_error: 0.3858 - val_loss: 0.4414 - val_mean_absolute_error: 0.4493\n",
      "Epoch 17/50\n",
      "\u001b[1m363/363\u001b[0m \u001b[32m━━━━━━━━━━━━━━━━━━━━\u001b[0m\u001b[37m\u001b[0m \u001b[1m0s\u001b[0m 405us/step - loss: 0.2980 - mean_absolute_error: 0.3793 - val_loss: 0.4537 - val_mean_absolute_error: 0.4498\n",
      "Epoch 18/50\n",
      "\u001b[1m363/363\u001b[0m \u001b[32m━━━━━━━━━━━━━━━━━━━━\u001b[0m\u001b[37m\u001b[0m \u001b[1m0s\u001b[0m 345us/step - loss: 0.3085 - mean_absolute_error: 0.3817 - val_loss: 0.4613 - val_mean_absolute_error: 0.4539\n",
      "Epoch 19/50\n",
      "\u001b[1m363/363\u001b[0m \u001b[32m━━━━━━━━━━━━━━━━━━━━\u001b[0m\u001b[37m\u001b[0m \u001b[1m0s\u001b[0m 340us/step - loss: 0.2937 - mean_absolute_error: 0.3767 - val_loss: 0.4382 - val_mean_absolute_error: 0.4496\n",
      "Epoch 20/50\n",
      "\u001b[1m363/363\u001b[0m \u001b[32m━━━━━━━━━━━━━━━━━━━━\u001b[0m\u001b[37m\u001b[0m \u001b[1m0s\u001b[0m 344us/step - loss: 0.3031 - mean_absolute_error: 0.3805 - val_loss: 0.4267 - val_mean_absolute_error: 0.4480\n",
      "Epoch 21/50\n",
      "\u001b[1m363/363\u001b[0m \u001b[32m━━━━━━━━━━━━━━━━━━━━\u001b[0m\u001b[37m\u001b[0m \u001b[1m0s\u001b[0m 348us/step - loss: 0.2931 - mean_absolute_error: 0.3760 - val_loss: 0.4400 - val_mean_absolute_error: 0.4452\n",
      "Epoch 22/50\n",
      "\u001b[1m363/363\u001b[0m \u001b[32m━━━━━━━━━━━━━━━━━━━━\u001b[0m\u001b[37m\u001b[0m \u001b[1m0s\u001b[0m 345us/step - loss: 0.2980 - mean_absolute_error: 0.3764 - val_loss: 0.4470 - val_mean_absolute_error: 0.4470\n",
      "Epoch 23/50\n",
      "\u001b[1m363/363\u001b[0m \u001b[32m━━━━━━━━━━━━━━━━━━━━\u001b[0m\u001b[37m\u001b[0m \u001b[1m0s\u001b[0m 347us/step - loss: 0.2949 - mean_absolute_error: 0.3738 - val_loss: 0.4400 - val_mean_absolute_error: 0.4451\n",
      "Epoch 24/50\n",
      "\u001b[1m363/363\u001b[0m \u001b[32m━━━━━━━━━━━━━━━━━━━━\u001b[0m\u001b[37m\u001b[0m \u001b[1m0s\u001b[0m 376us/step - loss: 0.2882 - mean_absolute_error: 0.3691 - val_loss: 0.4277 - val_mean_absolute_error: 0.4433\n",
      "Epoch 25/50\n",
      "\u001b[1m363/363\u001b[0m \u001b[32m━━━━━━━━━━━━━━━━━━━━\u001b[0m\u001b[37m\u001b[0m \u001b[1m0s\u001b[0m 371us/step - loss: 0.2776 - mean_absolute_error: 0.3679 - val_loss: 0.4420 - val_mean_absolute_error: 0.4463\n",
      "Epoch 26/50\n",
      "\u001b[1m363/363\u001b[0m \u001b[32m━━━━━━━━━━━━━━━━━━━━\u001b[0m\u001b[37m\u001b[0m \u001b[1m0s\u001b[0m 347us/step - loss: 0.3065 - mean_absolute_error: 0.3815 - val_loss: 0.4384 - val_mean_absolute_error: 0.4430\n",
      "Epoch 27/50\n",
      "\u001b[1m363/363\u001b[0m \u001b[32m━━━━━━━━━━━━━━━━━━━━\u001b[0m\u001b[37m\u001b[0m \u001b[1m0s\u001b[0m 342us/step - loss: 0.2834 - mean_absolute_error: 0.3687 - val_loss: 0.4511 - val_mean_absolute_error: 0.4446\n",
      "Epoch 28/50\n",
      "\u001b[1m363/363\u001b[0m \u001b[32m━━━━━━━━━━━━━━━━━━━━\u001b[0m\u001b[37m\u001b[0m \u001b[1m0s\u001b[0m 345us/step - loss: 0.2811 - mean_absolute_error: 0.3648 - val_loss: 0.4669 - val_mean_absolute_error: 0.4483\n",
      "Epoch 29/50\n",
      "\u001b[1m363/363\u001b[0m \u001b[32m━━━━━━━━━━━━━━━━━━━━\u001b[0m\u001b[37m\u001b[0m \u001b[1m0s\u001b[0m 353us/step - loss: 0.2919 - mean_absolute_error: 0.3705 - val_loss: 0.4393 - val_mean_absolute_error: 0.4391\n",
      "Epoch 30/50\n",
      "\u001b[1m363/363\u001b[0m \u001b[32m━━━━━━━━━━━━━━━━━━━━\u001b[0m\u001b[37m\u001b[0m \u001b[1m0s\u001b[0m 361us/step - loss: 0.2764 - mean_absolute_error: 0.3620 - val_loss: 0.4620 - val_mean_absolute_error: 0.4465\n",
      "Epoch 31/50\n",
      "\u001b[1m363/363\u001b[0m \u001b[32m━━━━━━━━━━━━━━━━━━━━\u001b[0m\u001b[37m\u001b[0m \u001b[1m0s\u001b[0m 351us/step - loss: 0.2922 - mean_absolute_error: 0.3729 - val_loss: 0.4365 - val_mean_absolute_error: 0.4398\n",
      "Epoch 32/50\n",
      "\u001b[1m363/363\u001b[0m \u001b[32m━━━━━━━━━━━━━━━━━━━━\u001b[0m\u001b[37m\u001b[0m \u001b[1m0s\u001b[0m 350us/step - loss: 0.2769 - mean_absolute_error: 0.3644 - val_loss: 0.4286 - val_mean_absolute_error: 0.4337\n",
      "Epoch 33/50\n",
      "\u001b[1m363/363\u001b[0m \u001b[32m━━━━━━━━━━━━━━━━━━━━\u001b[0m\u001b[37m\u001b[0m \u001b[1m0s\u001b[0m 348us/step - loss: 0.2794 - mean_absolute_error: 0.3669 - val_loss: 0.4493 - val_mean_absolute_error: 0.4492\n",
      "Epoch 34/50\n",
      "\u001b[1m363/363\u001b[0m \u001b[32m━━━━━━━━━━━━━━━━━━━━\u001b[0m\u001b[37m\u001b[0m \u001b[1m0s\u001b[0m 355us/step - loss: 0.2798 - mean_absolute_error: 0.3623 - val_loss: 0.4670 - val_mean_absolute_error: 0.4441\n",
      "Epoch 35/50\n",
      "\u001b[1m363/363\u001b[0m \u001b[32m━━━━━━━━━━━━━━━━━━━━\u001b[0m\u001b[37m\u001b[0m \u001b[1m0s\u001b[0m 348us/step - loss: 0.2835 - mean_absolute_error: 0.3648 - val_loss: 0.4475 - val_mean_absolute_error: 0.4401\n",
      "Epoch 36/50\n",
      "\u001b[1m363/363\u001b[0m \u001b[32m━━━━━━━━━━━━━━━━━━━━\u001b[0m\u001b[37m\u001b[0m \u001b[1m0s\u001b[0m 348us/step - loss: 0.2893 - mean_absolute_error: 0.3679 - val_loss: 0.4502 - val_mean_absolute_error: 0.4366\n",
      "Epoch 37/50\n",
      "\u001b[1m363/363\u001b[0m \u001b[32m━━━━━━━━━━━━━━━━━━━━\u001b[0m\u001b[37m\u001b[0m \u001b[1m0s\u001b[0m 349us/step - loss: 0.2831 - mean_absolute_error: 0.3657 - val_loss: 0.4338 - val_mean_absolute_error: 0.4354\n",
      "Epoch 38/50\n",
      "\u001b[1m363/363\u001b[0m \u001b[32m━━━━━━━━━━━━━━━━━━━━\u001b[0m\u001b[37m\u001b[0m \u001b[1m0s\u001b[0m 435us/step - loss: 0.2716 - mean_absolute_error: 0.3620 - val_loss: 0.4472 - val_mean_absolute_error: 0.4370\n",
      "Epoch 39/50\n",
      "\u001b[1m363/363\u001b[0m \u001b[32m━━━━━━━━━━━━━━━━━━━━\u001b[0m\u001b[37m\u001b[0m \u001b[1m0s\u001b[0m 356us/step - loss: 0.2790 - mean_absolute_error: 0.3640 - val_loss: 0.4227 - val_mean_absolute_error: 0.4354\n",
      "Epoch 40/50\n",
      "\u001b[1m363/363\u001b[0m \u001b[32m━━━━━━━━━━━━━━━━━━━━\u001b[0m\u001b[37m\u001b[0m \u001b[1m0s\u001b[0m 355us/step - loss: 0.2819 - mean_absolute_error: 0.3666 - val_loss: 0.4174 - val_mean_absolute_error: 0.4347\n",
      "Epoch 41/50\n",
      "\u001b[1m363/363\u001b[0m \u001b[32m━━━━━━━━━━━━━━━━━━━━\u001b[0m\u001b[37m\u001b[0m \u001b[1m0s\u001b[0m 353us/step - loss: 0.2701 - mean_absolute_error: 0.3578 - val_loss: 0.4248 - val_mean_absolute_error: 0.4343\n",
      "Epoch 42/50\n",
      "\u001b[1m363/363\u001b[0m \u001b[32m━━━━━━━━━━━━━━━━━━━━\u001b[0m\u001b[37m\u001b[0m \u001b[1m0s\u001b[0m 351us/step - loss: 0.2746 - mean_absolute_error: 0.3627 - val_loss: 0.4086 - val_mean_absolute_error: 0.4456\n",
      "Epoch 43/50\n",
      "\u001b[1m363/363\u001b[0m \u001b[32m━━━━━━━━━━━━━━━━━━━━\u001b[0m\u001b[37m\u001b[0m \u001b[1m0s\u001b[0m 367us/step - loss: 0.2724 - mean_absolute_error: 0.3601 - val_loss: 0.4279 - val_mean_absolute_error: 0.4331\n",
      "Epoch 44/50\n",
      "\u001b[1m363/363\u001b[0m \u001b[32m━━━━━━━━━━━━━━━━━━━━\u001b[0m\u001b[37m\u001b[0m \u001b[1m0s\u001b[0m 361us/step - loss: 0.2722 - mean_absolute_error: 0.3618 - val_loss: 0.4087 - val_mean_absolute_error: 0.4385\n",
      "Epoch 45/50\n",
      "\u001b[1m363/363\u001b[0m \u001b[32m━━━━━━━━━━━━━━━━━━━━\u001b[0m\u001b[37m\u001b[0m \u001b[1m0s\u001b[0m 366us/step - loss: 0.2737 - mean_absolute_error: 0.3625 - val_loss: 0.4452 - val_mean_absolute_error: 0.4358\n",
      "Epoch 46/50\n",
      "\u001b[1m363/363\u001b[0m \u001b[32m━━━━━━━━━━━━━━━━━━━━\u001b[0m\u001b[37m\u001b[0m \u001b[1m0s\u001b[0m 348us/step - loss: 0.2599 - mean_absolute_error: 0.3559 - val_loss: 0.4268 - val_mean_absolute_error: 0.4322\n",
      "Epoch 47/50\n",
      "\u001b[1m363/363\u001b[0m \u001b[32m━━━━━━━━━━━━━━━━━━━━\u001b[0m\u001b[37m\u001b[0m \u001b[1m0s\u001b[0m 352us/step - loss: 0.2692 - mean_absolute_error: 0.3577 - val_loss: 0.4141 - val_mean_absolute_error: 0.4280\n",
      "Epoch 48/50\n",
      "\u001b[1m363/363\u001b[0m \u001b[32m━━━━━━━━━━━━━━━━━━━━\u001b[0m\u001b[37m\u001b[0m \u001b[1m0s\u001b[0m 369us/step - loss: 0.2746 - mean_absolute_error: 0.3628 - val_loss: 0.4511 - val_mean_absolute_error: 0.4379\n",
      "Epoch 49/50\n",
      "\u001b[1m363/363\u001b[0m \u001b[32m━━━━━━━━━━━━━━━━━━━━\u001b[0m\u001b[37m\u001b[0m \u001b[1m0s\u001b[0m 354us/step - loss: 0.2731 - mean_absolute_error: 0.3633 - val_loss: 0.4248 - val_mean_absolute_error: 0.4411\n",
      "Epoch 50/50\n",
      "\u001b[1m363/363\u001b[0m \u001b[32m━━━━━━━━━━━━━━━━━━━━\u001b[0m\u001b[37m\u001b[0m \u001b[1m0s\u001b[0m 356us/step - loss: 0.2637 - mean_absolute_error: 0.3529 - val_loss: 0.4074 - val_mean_absolute_error: 0.4287\n"
     ]
    }
   ],
   "source": [
    "history = model.fit(X_train_s, y_train1, epochs=50, \n",
    "         validation_data=(X_validation_s, y_validation))"
   ]
  },
  {
   "cell_type": "code",
   "execution_count": 11,
   "id": "ca643b0a-eb01-4d72-915a-bc705b16c2c8",
   "metadata": {},
   "outputs": [
    {
     "name": "stdout",
     "output_type": "stream",
     "text": [
      "\u001b[1m162/162\u001b[0m \u001b[32m━━━━━━━━━━━━━━━━━━━━\u001b[0m\u001b[37m\u001b[0m \u001b[1m0s\u001b[0m 220us/step - loss: 0.4117 - mean_absolute_error: 0.4399\n"
     ]
    }
   ],
   "source": [
    "scr = model.evaluate(X_test_s, y_test)"
   ]
  },
  {
   "cell_type": "code",
   "execution_count": 12,
   "id": "54dd091d-4aa5-40a0-8491-718ec866c5d6",
   "metadata": {},
   "outputs": [
    {
     "data": {
      "text/plain": [
       "[0.40895792841911316, 0.44111764430999756]"
      ]
     },
     "execution_count": 12,
     "metadata": {},
     "output_type": "execute_result"
    }
   ],
   "source": [
    "scr"
   ]
  },
  {
   "cell_type": "code",
   "execution_count": 13,
   "id": "bc6e2860-12ff-4a11-9431-8b28f72e38dd",
   "metadata": {},
   "outputs": [],
   "source": [
    "from matplotlib import pyplot as plt"
   ]
  },
  {
   "cell_type": "code",
   "execution_count": 19,
   "id": "2ee4062b-add0-446e-9448-868ecdd56912",
   "metadata": {},
   "outputs": [
    {
     "data": {
      "text/plain": [
       "{'loss': [0.6703299283981323,\n",
       "  0.4119887053966522,\n",
       "  0.37945443391799927,\n",
       "  0.3585539162158966,\n",
       "  0.34772029519081116,\n",
       "  0.341977596282959,\n",
       "  0.336597740650177,\n",
       "  0.3319505751132965,\n",
       "  0.32990553975105286,\n",
       "  0.32737451791763306,\n",
       "  0.3243844509124756,\n",
       "  0.3277745246887207,\n",
       "  0.32075178623199463,\n",
       "  0.3231467008590698,\n",
       "  0.314016729593277,\n",
       "  0.30828526616096497,\n",
       "  0.30540668964385986,\n",
       "  0.30397409200668335,\n",
       "  0.30113720893859863,\n",
       "  0.30195239186286926,\n",
       "  0.29821887612342834,\n",
       "  0.29604169726371765,\n",
       "  0.29428210854530334,\n",
       "  0.2913477420806885,\n",
       "  0.29029417037963867,\n",
       "  0.29115718603134155,\n",
       "  0.2887265384197235,\n",
       "  0.2867121994495392,\n",
       "  0.28874966502189636,\n",
       "  0.2837710976600647,\n",
       "  0.2834895849227905,\n",
       "  0.2814919650554657,\n",
       "  0.2813687026500702,\n",
       "  0.2801567614078522,\n",
       "  0.27939483523368835,\n",
       "  0.2781469523906708,\n",
       "  0.27702808380126953,\n",
       "  0.2793729901313782,\n",
       "  0.2767370939254761,\n",
       "  0.2756355106830597,\n",
       "  0.2743299603462219,\n",
       "  0.27207261323928833,\n",
       "  0.2723228931427002,\n",
       "  0.27194270491600037,\n",
       "  0.27068865299224854,\n",
       "  0.26983052492141724,\n",
       "  0.26937028765678406,\n",
       "  0.2680036425590515,\n",
       "  0.2688894271850586,\n",
       "  0.26925814151763916],\n",
       " 'mean_absolute_error': [0.5760686993598938,\n",
       "  0.4554581642150879,\n",
       "  0.4351028501987457,\n",
       "  0.42176076769828796,\n",
       "  0.4138643741607666,\n",
       "  0.4102318584918976,\n",
       "  0.4065045416355133,\n",
       "  0.4019106924533844,\n",
       "  0.40083837509155273,\n",
       "  0.3984997868537903,\n",
       "  0.39702606201171875,\n",
       "  0.3977065086364746,\n",
       "  0.39495858550071716,\n",
       "  0.392617791891098,\n",
       "  0.3892252743244171,\n",
       "  0.38605740666389465,\n",
       "  0.38302209973335266,\n",
       "  0.38210803270339966,\n",
       "  0.38062363862991333,\n",
       "  0.38066086173057556,\n",
       "  0.3778042793273926,\n",
       "  0.37645092606544495,\n",
       "  0.3756788372993469,\n",
       "  0.3742770850658417,\n",
       "  0.3727441132068634,\n",
       "  0.3726795017719269,\n",
       "  0.3713851571083069,\n",
       "  0.3704882562160492,\n",
       "  0.37111014127731323,\n",
       "  0.3681638240814209,\n",
       "  0.36850589513778687,\n",
       "  0.36691758036613464,\n",
       "  0.3662673234939575,\n",
       "  0.3651660680770874,\n",
       "  0.36584219336509705,\n",
       "  0.3645373284816742,\n",
       "  0.3642212748527527,\n",
       "  0.365043044090271,\n",
       "  0.3638661801815033,\n",
       "  0.36346298456192017,\n",
       "  0.3623024523258209,\n",
       "  0.36052975058555603,\n",
       "  0.3604523837566376,\n",
       "  0.3600383996963501,\n",
       "  0.35988834500312805,\n",
       "  0.3585350811481476,\n",
       "  0.3583841025829315,\n",
       "  0.35786187648773193,\n",
       "  0.3594128489494324,\n",
       "  0.35681772232055664],\n",
       " 'val_loss': [0.533776581287384,\n",
       "  0.5571702718734741,\n",
       "  0.4653370678424835,\n",
       "  0.45711851119995117,\n",
       "  0.46209782361984253,\n",
       "  0.4629102945327759,\n",
       "  0.49212533235549927,\n",
       "  0.4863077402114868,\n",
       "  0.4504823386669159,\n",
       "  0.4626988172531128,\n",
       "  0.4426122009754181,\n",
       "  0.4707673490047455,\n",
       "  0.4569200873374939,\n",
       "  0.4378089904785156,\n",
       "  0.4390661418437958,\n",
       "  0.44139641523361206,\n",
       "  0.4537225663661957,\n",
       "  0.46126824617385864,\n",
       "  0.4382231533527374,\n",
       "  0.4266895055770874,\n",
       "  0.43995288014411926,\n",
       "  0.44700077176094055,\n",
       "  0.44004571437835693,\n",
       "  0.42770516872406006,\n",
       "  0.44199585914611816,\n",
       "  0.43841564655303955,\n",
       "  0.45109841227531433,\n",
       "  0.4668707549571991,\n",
       "  0.439289391040802,\n",
       "  0.46196839213371277,\n",
       "  0.43647506833076477,\n",
       "  0.42861422896385193,\n",
       "  0.4492526352405548,\n",
       "  0.4669950306415558,\n",
       "  0.4474996030330658,\n",
       "  0.4502241313457489,\n",
       "  0.4338243901729584,\n",
       "  0.44717541337013245,\n",
       "  0.4226846396923065,\n",
       "  0.41739222407341003,\n",
       "  0.4248456656932831,\n",
       "  0.40860190987586975,\n",
       "  0.42787420749664307,\n",
       "  0.4087032973766327,\n",
       "  0.4452399015426636,\n",
       "  0.4268033802509308,\n",
       "  0.41408324241638184,\n",
       "  0.451054185628891,\n",
       "  0.42484766244888306,\n",
       "  0.4074459969997406],\n",
       " 'val_mean_absolute_error': [0.5114997029304504,\n",
       "  0.48574376106262207,\n",
       "  0.473580539226532,\n",
       "  0.4671815037727356,\n",
       "  0.46220141649246216,\n",
       "  0.4586188495159149,\n",
       "  0.4630589485168457,\n",
       "  0.4618431031703949,\n",
       "  0.45687177777290344,\n",
       "  0.4531688094139099,\n",
       "  0.4505053758621216,\n",
       "  0.454064279794693,\n",
       "  0.4530211091041565,\n",
       "  0.4599551558494568,\n",
       "  0.46443817019462585,\n",
       "  0.4492696225643158,\n",
       "  0.4498261511325836,\n",
       "  0.45392438769340515,\n",
       "  0.4496154189109802,\n",
       "  0.44798043370246887,\n",
       "  0.44518032670021057,\n",
       "  0.44702020287513733,\n",
       "  0.4451257586479187,\n",
       "  0.4433271884918213,\n",
       "  0.44628041982650757,\n",
       "  0.4429885149002075,\n",
       "  0.44460782408714294,\n",
       "  0.44832414388656616,\n",
       "  0.43910592794418335,\n",
       "  0.44648244976997375,\n",
       "  0.439799964427948,\n",
       "  0.4336569309234619,\n",
       "  0.44918951392173767,\n",
       "  0.4440861642360687,\n",
       "  0.44014182686805725,\n",
       "  0.43657517433166504,\n",
       "  0.435351699590683,\n",
       "  0.4369718134403229,\n",
       "  0.43535518646240234,\n",
       "  0.43466535210609436,\n",
       "  0.43432196974754333,\n",
       "  0.4455861747264862,\n",
       "  0.43308591842651367,\n",
       "  0.43845072388648987,\n",
       "  0.43576738238334656,\n",
       "  0.432208776473999,\n",
       "  0.4280369281768799,\n",
       "  0.43787437677383423,\n",
       "  0.4411136507987976,\n",
       "  0.42868274450302124]}"
      ]
     },
     "execution_count": 19,
     "metadata": {},
     "output_type": "execute_result"
    }
   ],
   "source": [
    "history.history"
   ]
  },
  {
   "cell_type": "markdown",
   "id": "f8a5b545-2fca-4f05-9b0f-755921542a60",
   "metadata": {},
   "source": [
    "## plot errors and loss"
   ]
  },
  {
   "cell_type": "code",
   "execution_count": 17,
   "id": "dce6a013-ad5e-46d4-95b2-38952f739811",
   "metadata": {},
   "outputs": [
    {
     "data": {
      "text/plain": [
       "<matplotlib.legend.Legend at 0x16dc77260>"
      ]
     },
     "execution_count": 17,
     "metadata": {},
     "output_type": "execute_result"
    },
    {
     "data": {
      "image/png": "[encoded data removed]",
      "text/plain": [
       "<Figure size 640x480 with 1 Axes>"
      ]
     },
     "metadata": {},
     "output_type": "display_data"
    }
   ],
   "source": [
    "plt.plot(history.history['val_mean_absolute_error'], label='val_mean_absolute_error')\n",
    "plt.plot(history.history['val_loss'], label='val_loss')\n",
    "plt.plot(history.history['mean_absolute_error'], label='mean_absolute_error')\n",
    "plt.plot(history.history['loss'], label='loss')\n",
    "plt.legend()"
   ]
  },
  {
   "cell_type": "code",
   "execution_count": null,
   "id": "1d96b61a-5b7b-4430-8ab9-cd020310f5ff",
   "metadata": {},
   "outputs": [],
   "source": []
  },
  {
   "cell_type": "code",
   "execution_count": null,
   "id": "803a68ea-a03d-44d1-a46e-785854741716",
   "metadata": {},
   "outputs": [],
   "source": []
  },
  {
   "cell_type": "code",
   "execution_count": null,
   "id": "c6e80ee5-a799-45cf-9a89-9669470c66fb",
   "metadata": {},
   "outputs": [],
   "source": []
  }
 ],
 "metadata": {
  "kernelspec": {
   "display_name": "Python 3 (ipykernel)",
   "language": "python",
   "name": "python3"
  },
  "language_info": {
   "codemirror_mode": {
    "name": "ipython",
    "version": 3
   },
   "file_extension": ".py",
   "mimetype": "text/x-python",
   "name": "python",
   "nbconvert_exporter": "python",
   "pygments_lexer": "ipython3",
   "version": "3.12.6"
  }
 },
 "nbformat": 4,
 "nbformat_minor": 5
}
